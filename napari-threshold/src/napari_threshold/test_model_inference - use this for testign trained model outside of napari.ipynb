{
 "cells": [
  {
   "cell_type": "code",
   "execution_count": 1,
   "metadata": {},
   "outputs": [],
   "source": [
    "import os\n",
    "os.environ[\"KMP_DUPLICATE_LIB_OK\"] = \"TRUE\"\n"
   ]
  },
  {
   "cell_type": "code",
   "execution_count": 2,
   "metadata": {},
   "outputs": [
    {
     "name": "stdout",
     "output_type": "stream",
     "text": [
      "Image saved to /Users/annastuckert/Documents/GitHub/DeepEnsampleGUI/napari-threshold/src/napari_threshold/single_image.pt\n"
     ]
    }
   ],
   "source": [
    "#create single image .pt file\n",
    "import torch\n",
    "from PIL import Image\n",
    "import torchvision.transforms as transforms\n",
    "\n",
    "# Define the path to your single image\n",
    "img_path = \"/Users/annastuckert/Documents/GitHub/DeepEnsampleGUI/napari-threshold/src/napari_threshold/frame_0002.jpg\"  # Replace with your image path\n",
    "\n",
    "# Define any transformations (optional, for example, converting to tensor)\n",
    "transform = transforms.Compose([\n",
    "    transforms.ToTensor(),  # Convert image to tensor\n",
    "])\n",
    "\n",
    "# Load the single image\n",
    "img = Image.open(img_path).convert('L')  # Convert to grayscale ('L')\n",
    "\n",
    "# Resize the image\n",
    "resize_factor = 0.2\n",
    "min_size = 32\n",
    "new_width = max(int(img.width * resize_factor), min_size)\n",
    "new_height = max(int(img.height * resize_factor), min_size)\n",
    "\n",
    "# Ensure the resized dimensions are even\n",
    "new_width += new_width % 2  # Make width even\n",
    "new_height += new_height % 2  # Make height even\n",
    "\n",
    "img = img.resize((new_width, new_height), Image.Resampling.LANCZOS)\n",
    "\n",
    "# Apply the transformation (e.g., converting to tensor)\n",
    "img_tensor = transform(img)\n",
    "\n",
    "# Define the save path for the .pt file\n",
    "save_path = '/Users/annastuckert/Documents/GitHub/DeepEnsampleGUI/napari-threshold/src/napari_threshold/single_image.pt'  # Change to the path where you want to save the file\n",
    "\n",
    "# Save the image tensor to the .pt file\n",
    "torch.save(img_tensor, save_path)\n",
    "print(f\"Image saved to {save_path}\")"
   ]
  },
  {
   "cell_type": "code",
   "execution_count": 3,
   "metadata": {},
   "outputs": [
    {
     "name": "stdout",
     "output_type": "stream",
     "text": [
      "Image shape: torch.Size([244, 388])\n"
     ]
    }
   ],
   "source": [
    "import torch\n",
    "from torch.utils.data import Dataset\n",
    "import torchvision.transforms.functional as TF\n",
    "import random\n",
    "\n",
    "class facemapdataset(Dataset):\n",
    "    def __init__(self, data_file='/Users/annastuckert/Documents/GitHub/DeepEnsampleGUI/napari-threshold/src/napari_threshold/single_image.pt', transform=None):\n",
    "        super().__init__()\n",
    "        self.transform = transform\n",
    "        # Load the data (single image tensor)\n",
    "        self.data= torch.load(data_file)\n",
    "\n",
    "    def __len__(self):\n",
    "        return len(self.data)  # We are using a single image dataset, no augmentation.\n",
    "\n",
    "    def __getitem__(self, index):\n",
    "        # Load the image and label\n",
    "        image = self.data[index].clone()\n",
    "\n",
    "        # No augmentation or transformation is applied to the image or label\n",
    "        return image\n",
    "\n",
    "\n",
    "# Initialize the dataset\n",
    "dataset = facemapdataset()\n",
    "\n",
    "# Example of retrieving a sample from the dataset\n",
    "image = dataset[0]\n",
    "print(f\"Image shape: {image.shape}\")"
   ]
  },
  {
   "cell_type": "code",
   "execution_count": 4,
   "metadata": {},
   "outputs": [
    {
     "data": {
      "text/plain": [
       "Unet(\n",
       "  (uEnc11): Conv2d(1, 8, kernel_size=(3, 3), stride=(1, 1), padding=(1, 1))\n",
       "  (uEnc12): Conv2d(8, 8, kernel_size=(3, 3), stride=(1, 1), padding=(1, 1))\n",
       "  (uEnc2): convBlock(\n",
       "    (enc1): Conv2d(8, 16, kernel_size=(3, 3), stride=(1, 1), padding=(1, 1))\n",
       "    (enc2): Conv2d(16, 16, kernel_size=(3, 3), stride=(1, 1), padding=(1, 1))\n",
       "    (bn): BatchNorm2d(8, eps=1e-05, momentum=0.1, affine=True, track_running_stats=True)\n",
       "    (scale): AvgPool2d(kernel_size=2, stride=2, padding=0)\n",
       "    (act): ReLU()\n",
       "  )\n",
       "  (uEnc3): convBlock(\n",
       "    (enc1): Conv2d(16, 32, kernel_size=(3, 3), stride=(1, 1), padding=(1, 1))\n",
       "    (enc2): Conv2d(32, 32, kernel_size=(3, 3), stride=(1, 1), padding=(1, 1))\n",
       "    (bn): BatchNorm2d(16, eps=1e-05, momentum=0.1, affine=True, track_running_stats=True)\n",
       "    (scale): AvgPool2d(kernel_size=2, stride=2, padding=0)\n",
       "    (act): ReLU()\n",
       "  )\n",
       "  (dec3): convBlock(\n",
       "    (enc1): Conv2d(32, 16, kernel_size=(3, 3), stride=(1, 1), padding=(1, 1))\n",
       "    (enc2): Conv2d(16, 16, kernel_size=(3, 3), stride=(1, 1), padding=(1, 1))\n",
       "    (bn): BatchNorm2d(32, eps=1e-05, momentum=0.1, affine=True, track_running_stats=True)\n",
       "    (scale): Upsample(scale_factor=2.0, mode='nearest')\n",
       "    (act): ReLU()\n",
       "  )\n",
       "  (dec2): convBlock(\n",
       "    (enc1): Conv2d(32, 8, kernel_size=(3, 3), stride=(1, 1), padding=(1, 1))\n",
       "    (enc2): Conv2d(8, 8, kernel_size=(3, 3), stride=(1, 1), padding=(1, 1))\n",
       "    (bn): BatchNorm2d(32, eps=1e-05, momentum=0.1, affine=True, track_running_stats=True)\n",
       "    (scale): Upsample(scale_factor=2.0, mode='nearest')\n",
       "    (act): ReLU()\n",
       "  )\n",
       "  (dec11): Conv2d(16, 8, kernel_size=(3, 3), stride=(1, 1), padding=(1, 1))\n",
       "  (dec12): Conv2d(8, 1, kernel_size=(3, 3), stride=(1, 1), padding=(1, 1))\n",
       "  (act): ReLU()\n",
       ")"
      ]
     },
     "execution_count": 4,
     "metadata": {},
     "output_type": "execute_result"
    }
   ],
   "source": [
    "import torch\n",
    "import matplotlib.pyplot as plt\n",
    "\n",
    "\n",
    "device = torch.device(\"cuda\" if torch.cuda.is_available() else \"cpu\")\n",
    "\n",
    "from models import Unet\n",
    "\n",
    "\n",
    "# Initialize the Unet model\n",
    "model = Unet()\n",
    "\n",
    "# Load the model weights\n",
    "model.load_state_dict(torch.load('/Users/annastuckert/Documents/GitHub/DeepEnsampleGUI/napari-threshold/src/napari_threshold/model_weights.pth', map_location=device))\n",
    "model.eval()  # Set the model to evaluation mode\n",
    "\n",
    "\n"
   ]
  },
  {
   "cell_type": "code",
   "execution_count": 5,
   "metadata": {},
   "outputs": [
    {
     "data": {
      "text/plain": [
       "<Figure size 640x480 with 0 Axes>"
      ]
     },
     "metadata": {},
     "output_type": "display_data"
    }
   ],
   "source": [
    "\n",
    "# Assuming image is already loaded\n",
    "image = dataset[0]  # Shape: [244, 388]\n",
    "image = image.unsqueeze(0).unsqueeze(0)  # Now the shape is [1, 1, 244, 388]\n",
    "\n",
    "# Move the image to the device (GPU or CPU)\n",
    "inputs = image.to(device)\n",
    "\n",
    "# Perform inference with the model\n",
    "with torch.no_grad():\n",
    "    scores, fmap = model(inputs)\n",
    "\n",
    "    # Optionally, process the results (e.g., loss, visualization)\n",
    "    img = inputs.squeeze().detach().cpu().numpy()\n",
    "    pred = scores.squeeze().detach().cpu().numpy()\n",
    "    fmap = fmap.mean(1).squeeze().cpu().numpy()\n",
    "\n",
    "    # Plotting the results\n",
    "    plt.clf()\n",
    "    plt.figure(figsize=(12, 4))\n",
    "    plt.subplot(141)\n",
    "    plt.imshow(img, cmap=\"gray\")\n",
    "    plt.subplot(143)\n",
    "    plt.imshow(pred)\n",
    "    plt.subplot(144)\n",
    "    plt.imshow(fmap)\n",
    "\n",
    "    plt.tight_layout()\n",
    "    plt.savefig(\"test_%03d.jpg\")\n",
    "    plt.close()"
   ]
  }
 ],
 "metadata": {
  "kernelspec": {
   "display_name": "napari_2",
   "language": "python",
   "name": "python3"
  },
  "language_info": {
   "codemirror_mode": {
    "name": "ipython",
    "version": 3
   },
   "file_extension": ".py",
   "mimetype": "text/x-python",
   "name": "python",
   "nbconvert_exporter": "python",
   "pygments_lexer": "ipython3",
   "version": "3.13.2"
  }
 },
 "nbformat": 4,
 "nbformat_minor": 2
}
